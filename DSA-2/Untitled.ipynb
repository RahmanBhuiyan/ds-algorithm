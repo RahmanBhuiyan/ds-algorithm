{
 "cells": [
  {
   "cell_type": "code",
   "execution_count": 7,
   "id": "3907dc94-4cb1-4c09-a5be-64b6f6e3422b",
   "metadata": {},
   "outputs": [
    {
     "name": "stdout",
     "output_type": "stream",
     "text": [
      "12 --->13 --->"
     ]
    }
   ],
   "source": [
    "class SinglyLinkedListNode:\n",
    "    def __init__(self, node_data):\n",
    "        self.data = node_data\n",
    "        self.next = None\n",
    "\n",
    "class SinglyLinkedList:\n",
    "    def __init__(self):\n",
    "        self.head = None\n",
    "        self.tail = None\n",
    "\n",
    "    def insert_node(self, node_data):\n",
    "        node = SinglyLinkedListNode(node_data)\n",
    "\n",
    "        if not self.head:\n",
    "            self.head = node\n",
    "        else:\n",
    "            self.tail.next = node\n",
    "\n",
    "\n",
    "        self.tail = node\n",
    "    \n",
    "    def link_node(self):\n",
    "        if self.head == None:\n",
    "            print(\"linkedlist is empty\")\n",
    "        else:\n",
    "            n=self.head\n",
    "            while n is not None:\n",
    "                print(n.data,\"--->\",end=\"\")\n",
    "                n=n.next\n",
    "obj=SinglyLinkedList()\n",
    "obj.insert_node(12)\n",
    "obj.insert_node(13)\n",
    "obj.link_node()"
   ]
  },
  {
   "cell_type": "code",
   "execution_count": null,
   "id": "3dfd1469-b71f-4a14-8189-96a0f473e1cf",
   "metadata": {},
   "outputs": [],
   "source": []
  }
 ],
 "metadata": {
  "kernelspec": {
   "display_name": "Python 3",
   "language": "python",
   "name": "python3"
  },
  "language_info": {
   "codemirror_mode": {
    "name": "ipython",
    "version": 3
   },
   "file_extension": ".py",
   "mimetype": "text/x-python",
   "name": "python",
   "nbconvert_exporter": "python",
   "pygments_lexer": "ipython3",
   "version": "3.8.8"
  }
 },
 "nbformat": 4,
 "nbformat_minor": 5
}
